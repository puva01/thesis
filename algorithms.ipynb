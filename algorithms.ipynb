{
 "cells": [
  {
   "cell_type": "markdown",
   "metadata": {},
   "source": [
    "### フィボナッチ"
   ]
  },
  {
   "cell_type": "code",
   "execution_count": 56,
   "metadata": {},
   "outputs": [],
   "source": [
    "def fib(n):\n",
    "    if n==0 or n ==1:\n",
    "        return 1\n",
    "    else:\n",
    "        return fib(n-1)+fib(n-2)"
   ]
  },
  {
   "cell_type": "markdown",
   "metadata": {},
   "source": [
    "### マージソート(うまく動いてない) 計算量: f(n)=2f(n/2)+n-1 , n=2^kと仮定して，f(n)=O(nlogn)"
   ]
  },
  {
   "cell_type": "code",
   "execution_count": 7,
   "metadata": {
    "collapsed": true
   },
   "outputs": [],
   "source": [
    "def merge(l):\n",
    "    if len(l) >1:\n",
    "        mid = int(len(l)/2)\n",
    "        right = merge(l[:mid])\n",
    "        left = merge(l[mid:])\n",
    "    l =[]\n",
    "    while left !=[] and right !=[]:\n",
    "        if left[0]<right[0]:\n",
    "            l.append(left.pop(0))\n",
    "        else:\n",
    "            l.append(right.pop(0))\n",
    "    if left ==[]:\n",
    "        l.extend(right)\n",
    "    else:\n",
    "        l.extend(left)\n",
    "    return l\n"
   ]
  },
  {
   "cell_type": "markdown",
   "metadata": {},
   "source": [
    "### ハノイの塔　計算量:f(n) = 2f(n-1)+a より f(n)=O(n)"
   ]
  },
  {
   "cell_type": "code",
   "execution_count": 23,
   "metadata": {},
   "outputs": [],
   "source": [
    "# def move(n,a,b,c): # bを経由してaからcへ移す関数\n",
    "#     if n =1:\n",
    "#         c = a\n",
    "#     else:\n",
    "#         move(n-1,b,a,c)\n",
    "#         move the laegest disk from A to C\n",
    "#         move(n-1,b,a,c)"
   ]
  },
  {
   "cell_type": "markdown",
   "metadata": {},
   "source": [
    "   ### 深さ優先探索(再帰)"
   ]
  },
  {
   "cell_type": "code",
   "execution_count": 20,
   "metadata": {},
   "outputs": [],
   "source": [
    "def func(path):\n",
    "    v[path[-1]] = True # 訪れました\n",
    "    d[path[-1]]=len(path)-1\n",
    "    if sum([v[nx] for nx in j[path[-1]]])==len(j[path[-1]]):\n",
    "        leaf_list.append(path)\n",
    "    for nx in j[path[-1]]:\n",
    "        if not v[nx]:\n",
    "            func(path+[nx])"
   ]
  },
  {
   "cell_type": "code",
   "execution_count": 24,
   "metadata": {},
   "outputs": [
    {
     "data": {
      "text/plain": [
       "[0, 1, 1, 2, 2, 3]"
      ]
     },
     "execution_count": 24,
     "metadata": {},
     "output_type": "execute_result"
    }
   ],
   "source": [
    "j = [[1,2],[0,3,4],[0],[1,5],[1],[3]]\n",
    "v =[False for i in range(len(j))]\n",
    "leaf_list = []\n",
    "d = [0 for i in range(len(j))]\n",
    "func([0])\n",
    "leaf_list\n",
    "d"
   ]
  },
  {
   "cell_type": "markdown",
   "metadata": {},
   "source": [
    "### DFS(再帰なし)"
   ]
  },
  {
   "cell_type": "code",
   "execution_count": 51,
   "metadata": {},
   "outputs": [],
   "source": [
    "stack =[]\n",
    "def dfs(start):\n",
    "    stack.append(start)\n",
    "    while stack !=[]:\n",
    "        a = stack.pop()\n",
    "        v[a] = True\n",
    "        for x in j[a]:\n",
    "            if v[x] ==False:\n",
    "                stack.append(x)"
   ]
  },
  {
   "cell_type": "code",
   "execution_count": 53,
   "metadata": {},
   "outputs": [
    {
     "data": {
      "text/plain": [
       "[True, True, True, True, True]"
      ]
     },
     "execution_count": 53,
     "metadata": {},
     "output_type": "execute_result"
    }
   ],
   "source": [
    "j = [[1,2],[0,3,4],[0],[1],[1]]\n",
    "v =[False for i in range(len(j))]\n",
    "dfs(0)\n",
    "v"
   ]
  },
  {
   "cell_type": "markdown",
   "metadata": {},
   "source": [
    "### 幅優先探索"
   ]
  },
  {
   "cell_type": "code",
   "execution_count": 2,
   "metadata": {
    "collapsed": true
   },
   "outputs": [],
   "source": [
    "que = []\n",
    "def wfs(start):\n",
    "    que.append(start)\n",
    "    while que !=[]:\n",
    "        a = que.pop(0)\n",
    "        v[a] = True\n",
    "        for x in j[a]:\n",
    "            if v[x]==False:\n",
    "                que.append(x)"
   ]
  },
  {
   "cell_type": "code",
   "execution_count": 3,
   "metadata": {},
   "outputs": [
    {
     "data": {
      "text/plain": [
       "[True, True, True, True, True]"
      ]
     },
     "execution_count": 3,
     "metadata": {},
     "output_type": "execute_result"
    }
   ],
   "source": [
    "j = [[1,2],[0,3,4],[0],[1],[1]]\n",
    "v =[False for i in range(len(j))]\n",
    "wfs(0)\n",
    "v"
   ]
  },
  {
   "cell_type": "markdown",
   "metadata": {},
   "source": [
    "### x^M mod Nを求めるアルゴリズム"
   ]
  },
  {
   "cell_type": "code",
   "execution_count": 6,
   "metadata": {},
   "outputs": [],
   "source": [
    "def mod(x,m,n): #return x^m mod n\n",
    "    count = 0\n",
    "    if m ==1:\n",
    "        return x%n\n",
    "    elif m %2 ==0:\n",
    "        m =m/2\n",
    "        a=mod(x,m,n)\n",
    "        return a*a \n",
    "    else:\n",
    "        m = (m-1)/2\n",
    "        a =mod(x,m,n)\n",
    "        b =(x%n)\n",
    "        return a*a*b"
   ]
  },
  {
   "cell_type": "code",
   "execution_count": 9,
   "metadata": {},
   "outputs": [
    {
     "name": "stdout",
     "output_type": "stream",
     "text": [
      "1\n"
     ]
    },
    {
     "data": {
      "text/plain": [
       "16"
      ]
     },
     "execution_count": 9,
     "metadata": {},
     "output_type": "execute_result"
    }
   ],
   "source": [
    "mod(2,4,3)"
   ]
  },
  {
   "cell_type": "code",
   "execution_count": 1,
   "metadata": {},
   "outputs": [
    {
     "data": {
      "text/plain": [
       "50"
      ]
     },
     "execution_count": 1,
     "metadata": {},
     "output_type": "execute_result"
    }
   ],
   "source": [
    "a = [2,3,50]\n",
    "max(a)"
   ]
  },
  {
   "cell_type": "code",
   "execution_count": 5,
   "metadata": {},
   "outputs": [
    {
     "ename": "SyntaxError",
     "evalue": "invalid syntax (<ipython-input-5-94264861166a>, line 4)",
     "output_type": "error",
     "traceback": [
      "\u001b[0;36m  File \u001b[0;32m\"<ipython-input-5-94264861166a>\"\u001b[0;36m, line \u001b[0;32m4\u001b[0m\n\u001b[0;31m    right =merge([:mid])\u001b[0m\n\u001b[0m                  ^\u001b[0m\n\u001b[0;31mSyntaxError\u001b[0m\u001b[0;31m:\u001b[0m invalid syntax\n"
     ]
    }
   ],
   "source": [
    "def merge(list):\n",
    "    mid = int(len(list)/2)\n",
    "    if len(list)>1:\n",
    "        right =merge([:mid])\n",
    "        left = merge([mid:])\n",
    "        list =[]\n",
    "    while right !==[] and left !==[]:\n",
    "        if right[0]>left[0]:\n",
    "            l.append(right.pop(0))\n",
    "        else:\n",
    "            l.append(left.pop(0))\n",
    "    if right ==[]\n",
    "        l.extend(left)\n",
    "    elif left==[]:\n",
    "        l.extend(right)\n",
    "    return list"
   ]
  },
  {
   "cell_type": "code",
   "execution_count": 11,
   "metadata": {},
   "outputs": [
    {
     "data": {
      "text/plain": [
       "[2, 3, 4]"
      ]
     },
     "execution_count": 11,
     "metadata": {},
     "output_type": "execute_result"
    }
   ],
   "source": [
    "a = [1,2,3,4]\n",
    "a.pop(0)\n",
    "a"
   ]
  },
  {
   "cell_type": "code",
   "execution_count": null,
   "metadata": {
    "collapsed": true
   },
   "outputs": [],
   "source": []
  }
 ],
 "metadata": {
  "kernelspec": {
   "display_name": "Python 3",
   "language": "python",
   "name": "python3"
  },
  "language_info": {
   "codemirror_mode": {
    "name": "ipython",
    "version": 3
   },
   "file_extension": ".py",
   "mimetype": "text/x-python",
   "name": "python",
   "nbconvert_exporter": "python",
   "pygments_lexer": "ipython3",
   "version": "3.6.5"
  }
 },
 "nbformat": 4,
 "nbformat_minor": 2
}
