{
 "cells": [
  {
   "cell_type": "markdown",
   "metadata": {},
   "source": [
    "## IC Model"
   ]
  },
  {
   "cell_type": "code",
   "execution_count": 394,
   "metadata": {
    "collapsed": false
   },
   "outputs": [],
   "source": [
    "import networkx as nx\n",
    "import random\n",
    "import matplotlib.pyplot as plt\n",
    "import random as rnd\n",
    "import numpy as np\n",
    "%matplotlib inline\n",
    "\n",
    "class Agent:\n",
    "    def  __init__(self,id):\n",
    "        self.id = id\n",
    "        self.choice = None\n",
    "        self.strategy = None # hold\n",
    "        self.buy = p_buy\n",
    "        self.sell = p_sell\n",
    "\n",
    "        \n",
    "def count():\n",
    "    delta = sum(list(map(lambda agent:agent.strategy, agent_list)))\n",
    "    return delta\n",
    "\n",
    "def extract_influencers(G):\n",
    "#     PCT = 0.2 #choose as influencer from upper \"pct\" of degree centrality\n",
    "    degree_centers = nx.degree_centrality(G)\n",
    "    degree_list = sorted(degree_centers.items(), key=lambda x: x[1], reverse=True)\n",
    "    influencers = [agent_list[degree_list[i][0]] for i in range(len(G))][0:int(len(G)*PCT)]\n",
    "    return influencers\n",
    "\n",
    "def  init_decision():\n",
    "    random.seed(None)\n",
    "    for focal in agent_list:\n",
    "        r = rnd.random()\n",
    "        if 0<= r<focal.buy:\n",
    "            focal.choice = 'buy'\n",
    "            focal.strategy = 1\n",
    "        elif focal.buy<=r<=focal.buy+focal.sell:\n",
    "            focal.choice = 'sell'\n",
    "            focal.strategy = -1\n",
    "        else: \n",
    "            focal.choice = 'hold'\n",
    "            focal.strategy= 0"
   ]
  },
  {
   "cell_type": "markdown",
   "metadata": {},
   "source": [
    "### Independent cascade diffusion"
   ]
  },
  {
   "cell_type": "code",
   "execution_count": 395,
   "metadata": {
    "code_folding": [],
    "collapsed": false
   },
   "outputs": [],
   "source": [
    "def IC_model_diffusion(G, diffusion_probability):\n",
    "    DPROB = diffusion_probability     #拡散確率\n",
    "    init_decision()\n",
    "    influencers = extract_influencers(G)\n",
    "    influencers_list = [i.id for i in influencers]   \n",
    "#     print(\"init decision\",[agent_list[i].choice for i in range(len(G))])\n",
    "#     print(\"influencer\",influencers_list)\n",
    "#     print (\"influencer's choice\",[agent_list[i].choice for i in influencers_list])\n",
    "\n",
    "\n",
    "    informed = []\n",
    "    informed.extend(influencers_list) # 始めにインフルエンサーを格納しておく\n",
    "    state = \"ongoing\" # state is \"ongoing\" or \"end\". if \"ongoing\" difussion go next step otherewise finish.\n",
    "\n",
    "    while state == \"ongoing\":\n",
    "        state = \"end\"\n",
    "\n",
    "        # opinions の中にインフルエンサーによる決断の影響を格納\n",
    "        opinions = [{\"buy\":0,\"sell\":0,\"hold\":0} for i in range(len(G))] # reset opinions\n",
    "        #print(\"inf list\",[i.id for i in influencers])\n",
    "        for infl in influencers:\n",
    "            for focal in G.neighbors(infl.id) :\n",
    "                opinions[focal][infl.choice] +=1 \n",
    "        influencers = [] # reset\n",
    "        #print(\"opinion\",opinions)\n",
    "\n",
    "        for focal in agent_list:\n",
    "            if focal.id not in informed:\n",
    "                i = focal.id\n",
    "                if opinions[i]['sell']!=0 or opinions[i]['buy']!=0 or opinions[i]['hold']!=0:\n",
    "                    r = rnd.random()\n",
    "                    if 0< r < DPROB: # 同調する場合\n",
    "                        buy_p = opinions[i]['buy'] /(opinions[i]['sell']+opinions[i]['buy']+ opinions[i]['hold'])\n",
    "                        sell_p = opinions[i]['sell'] /(opinions[i]['sell']+opinions[i]['buy']+ opinions[i]['hold'])\n",
    "                        hold_p = opinions[i]['hold'] /(opinions[i]['sell']+opinions[i]['buy']+ opinions[i]['hold'])\n",
    "                        if 0<= r<buy_p:\n",
    "                            focal.choice = 'buy'\n",
    "                            focal.strategy = 1\n",
    "                        elif buy_p<=r<=buy_p+sell_p:\n",
    "                            focal.choice = 'sell'\n",
    "                            focal.strategy = -1\n",
    "                        else: \n",
    "                            focal.choice = 'hold'\n",
    "                            focal.strategy= 0\n",
    "                    state = \"ongoing\" # 次の拡散へ続く\n",
    "                    informed.append(i)\n",
    "                    influencers.append(agent_list[i])\n",
    "#     print([i.choice for i in agent_list])\n",
    "    return count()"
   ]
  },
  {
   "cell_type": "markdown",
   "metadata": {},
   "source": [
    "### Set propoerty"
   ]
  },
  {
   "cell_type": "code",
   "execution_count": 740,
   "metadata": {
    "collapsed": false
   },
   "outputs": [
    {
     "name": "stderr",
     "output_type": "stream",
     "text": [
      "/Users/puca/.pyenv/versions/anaconda3-4.3.1/lib/python3.6/site-packages/networkx/drawing/nx_pylab.py:611: MatplotlibDeprecationWarning: isinstance(..., numbers.Number)\n",
      "  if cb.is_numlike(alpha):\n"
     ]
    },
    {
     "data": {
      "image/png": "[encoded data removed]",
      "text/plain": [
       "<Figure size 432x288 with 1 Axes>"
      ]
     },
     "metadata": {},
     "output_type": "display_data"
    },
    {
     "data": {
      "text/plain": [
       "<Figure size 1440x1080 with 0 Axes>"
      ]
     },
     "metadata": {},
     "output_type": "display_data"
    }
   ],
   "source": [
    "N = 15\n",
    "p_sell =0.4\n",
    "p_buy =0.4\n",
    "num_play = 365*3\n",
    "G = nx.gnp_random_graph(N,0.1)\n",
    "agent_list = [Agent(id) for id in range(len(G))]\n",
    "# PCT = 0.02 #choose as influencer from upper \"pct\" of degree centrality\n",
    "G = G.copy()\n",
    "pos=nx.spring_layout(G)\n",
    "pos2 =nx.spectral_layout(G)\n",
    "pos3 =nx.circular_layout(G)\n",
    "pos4 = nx.random_layout(G)\n",
    "pos5  =nx.shell_layout(G)\n",
    "pos7 =nx.kamada_kawai_layout(G)\n",
    "\n",
    "nx.draw_networkx_edges(G,pos7,alpha=0.2)\n",
    "nx.draw_networkx_nodes(G,pos7,alpha=0.4,node_size=20)\n",
    "# nx.draw(G,pos,node_size=20)\n",
    "plt.axis('off')\n",
    "plt.figure(figsize=(20,15))\n",
    "plt.show()"
   ]
  },
  {
   "cell_type": "markdown",
   "metadata": {},
   "source": [
    "#### 変動量が異なるのがわかる"
   ]
  },
  {
   "cell_type": "code",
   "execution_count": 688,
   "metadata": {
    "collapsed": false
   },
   "outputs": [
    {
     "name": "stdout",
     "output_type": "stream",
     "text": [
      "random: -4\n",
      "IC_model -25\n"
     ]
    }
   ],
   "source": [
    "# 1)\n",
    "init_decision()\n",
    "count1 = count()\n",
    "# 2)\n",
    "count2 =  IC_model_diffusion(G,1)\n",
    "print (\"random:\",count1)\n",
    "print (\"IC_model\",count2)"
   ]
  },
  {
   "cell_type": "code",
   "execution_count": 689,
   "metadata": {
    "collapsed": true
   },
   "outputs": [],
   "source": [
    "def get_colors():\n",
    "    global  color_list\n",
    "    colors = []\n",
    "    infl_id = [focal.id for focal in extract_influencers(G)]\n",
    "    for focal in agent_list:\n",
    "        if focal.choice ==\"buy\":\n",
    "            colors.append(\"red\")\n",
    "        elif focal.choice ==\"sell\":\n",
    "            colors.append(\"blue\")\n",
    "        else:\n",
    "            colors.append(\"black\")\n",
    "\n",
    "    color_list.append(colors)"
   ]
  },
  {
   "cell_type": "markdown",
   "metadata": {},
   "source": [
    "#### visualization of ic model"
   ]
  },
  {
   "cell_type": "code",
   "execution_count": 690,
   "metadata": {
    "collapsed": false
   },
   "outputs": [],
   "source": [
    "def get_colors():\n",
    "    global  color_list\n",
    "    colors = []\n",
    "    for focal in agent_list:\n",
    "        if focal.choice ==\"buy\":\n",
    "            colors.append(\"red\")\n",
    "        elif focal.choice ==\"sell\":\n",
    "            colors.append(\"blue\")\n",
    "        else:\n",
    "            colors.append(\"black\")\n",
    "    color_list.append(colors)\n",
    "\n",
    "# print(color_list)"
   ]
  },
  {
   "cell_type": "code",
   "execution_count": 741,
   "metadata": {
    "collapsed": false
   },
   "outputs": [
    {
     "name": "stdout",
     "output_type": "stream",
     "text": [
      "inf list [4, 9, 10]\n",
      "inf list [1, 8, 12, 14]\n",
      "inf list [0]\n",
      "inf list [11]\n"
     ]
    },
    {
     "data": {
      "text/plain": [
       "4"
      ]
     },
     "execution_count": 741,
     "metadata": {},
     "output_type": "execute_result"
    }
   ],
   "source": [
    "# def IC_model_for_visualization(G, diffusion_probability):\n",
    "DPROB = 1    #拡散確率\n",
    "PCT = 0.1\n",
    "\n",
    "color_list=[]\n",
    "init_decision()\n",
    "get_colors()\n",
    "# print(color_list)\n",
    "\n",
    "\n",
    "\n",
    "#------------------------------------------------------------\n",
    "\n",
    "\n",
    "influencers = extract_influencers(G)\n",
    "influencers_list = [i.id for i in influencers]   \n",
    "infl_id = [focal.id for focal in extract_influencers(G)]\n",
    "#     print(\"init decision\",[agent_list[i].choice for i in range(len(G))])\n",
    "#     print(\"influencer\",influencers_list)\n",
    "#     print (\"influencer's choice\",[agent_list[i].choice for i in influencers_list])\n",
    "\n",
    "\n",
    "informed = []\n",
    "informed.extend(influencers_list) # 始めにインフルエンサーを格納しておく\n",
    "state = \"ongoing\" # state is \"ongoing\" or \"end\". if \"ongoing\" difussion go next step otherewise finish.\n",
    "\n",
    "while state == \"ongoing\":\n",
    "    state = \"end\"\n",
    "\n",
    "    # opinions の中にインフルエンサーによる決断の影響を格納\n",
    "    opinions = [{\"buy\":0,\"sell\":0,\"hold\":0} for i in range(len(G))] # reset opinions\n",
    "    print(\"inf list\",[i.id for i in influencers])\n",
    "    for infl in influencers:\n",
    "        for focal in G.neighbors(infl.id) :\n",
    "            opinions[focal][infl.choice] +=1 \n",
    "    influencers = [] # reset\n",
    "    #print(\"opinion\",opinions)\n",
    "\n",
    "    for focal in agent_list:\n",
    "        if focal.id not in informed:\n",
    "            i = focal.id\n",
    "            if opinions[i]['sell']!=0 or opinions[i]['buy']!=0 or opinions[i]['hold']!=0:\n",
    "                r = rnd.random()\n",
    "                if 0< r < DPROB: # 同調する場合\n",
    "                    buy_p = opinions[i]['buy'] /(opinions[i]['sell']+opinions[i]['buy']+ opinions[i]['hold'])\n",
    "                    sell_p = opinions[i]['sell'] /(opinions[i]['sell']+opinions[i]['buy']+ opinions[i]['hold'])\n",
    "                    hold_p = opinions[i]['hold'] /(opinions[i]['sell']+opinions[i]['buy']+ opinions[i]['hold'])\n",
    "                    if 0<= r<buy_p:\n",
    "                        focal.choice = 'buy'\n",
    "                        focal.strategy = 1\n",
    "                    elif buy_p<=r<=buy_p+sell_p:\n",
    "                        focal.choice = 'sell'\n",
    "                        focal.strategy = -1\n",
    "                    else: \n",
    "                        focal.choice = 'hold'\n",
    "                        focal.strategy= 0\n",
    "                state = \"ongoing\" # 次の拡散へ続く\n",
    "                informed.append(i)\n",
    "                influencers.append(agent_list[i])\n",
    "    if state ==\"ongoing\":           \n",
    "        get_colors()\n",
    "#     print([i.choice for i in agent_list])\n",
    "# return count(),color_list\n",
    "\n",
    "len(color_list)"
   ]
  },
  {
   "cell_type": "code",
   "execution_count": 742,
   "metadata": {
    "collapsed": false
   },
   "outputs": [
    {
     "name": "stderr",
     "output_type": "stream",
     "text": [
      "/Users/puca/.pyenv/versions/anaconda3-4.3.1/lib/python3.6/site-packages/networkx/drawing/nx_pylab.py:611: MatplotlibDeprecationWarning: isinstance(..., numbers.Number)\n",
      "  if cb.is_numlike(alpha):\n",
      "/Users/puca/.pyenv/versions/anaconda3-4.3.1/lib/python3.6/site-packages/matplotlib/figure.py:98: MatplotlibDeprecationWarning: \n",
      "Adding an axes using the same arguments as a previous axes currently reuses the earlier instance.  In a future version, a new instance will always be created and returned.  Meanwhile, this warning can be suppressed, and the future behavior ensured, by passing a unique label to each axes instance.\n",
      "  \"Adding an axes using the same arguments as a previous axes \"\n"
     ]
    },
    {
     "data": {
      "image/png": "[encoded data removed]",
      "text/plain": [
       "<Figure size 864x720 with 1 Axes>"
      ]
     },
     "metadata": {},
     "output_type": "display_data"
    }
   ],
   "source": [
    "#インフルエンサーは黄色\n",
    "init_color = color_list[0].copy()\n",
    "for i in infl_id:\n",
    "    init_color[i] = \"yellow\" \n",
    "\n",
    "#可視化    \n",
    "num = len(color_list)\n",
    "fig= plt.figure(figsize= (12,10))\n",
    "ax  =fig.add_subplot(111)\n",
    "ax.set_xticklabels([])\n",
    "ax.set_yticklabels([])\n",
    "ax.tick_params(color=\"white\")\n",
    "    \n",
    "#influencer = yellow   \n",
    "nx.draw_networkx_edges(G,pos7,edge_color=\"blue\",ax = ax,alpha  =0.9)\n",
    "nx.draw_networkx_nodes(G,pos7,node_color=init_color, ax = ax,node_size=100,alpha =0.9)\n",
    "plt.savefig('/Users/puca/thesis/images/ICmodel_simulation/n=15_init.png')\n",
    "\n",
    "for i in range (num):\n",
    "    ax  =fig.add_subplot(111)\n",
    "    ax.set_xticklabels([])\n",
    "    ax.set_yticklabels([])\n",
    "    ax.tick_params(color=\"white\")\n",
    "    nx.draw_networkx_edges(G,pos7,edge_color=\"blue\",ax = ax,alpha =0.9)\n",
    "    nx.draw_networkx_nodes(G,pos7,node_color=color_list[i], ax = ax,alpha =0.9,node_size=100)\n",
    "    plt.savefig('/Users/puca/thesis/images/ICmodel_simulation/n=15_{}.png'.format(i))\n",
    "    \n",
    "\n",
    "\n",
    "plt.axis('off')\n",
    "plt.show()\n"
   ]
  },
  {
   "cell_type": "code",
   "execution_count": 486,
   "metadata": {
    "collapsed": false
   },
   "outputs": [
    {
     "name": "stdout",
     "output_type": "stream",
     "text": [
      "0\n",
      "1\n"
     ]
    }
   ],
   "source": [
    "#インフルエンサーは黄色\n",
    "init_color = color_list[0].copy()\n",
    "for i in infl_id:\n",
    "    init_color[i] = \"yellow\" \n",
    "\n",
    "#可視化    \n",
    "num = len(color_list)\n",
    "fig,ax = plt.subplots(num+1,1,figsize= (12,10*num))\n",
    "[ax[i].set_xticklabels([]) for i in range(num+1)] \n",
    "[ax[i].set_yticklabels([]) for i in range(num+1)] \n",
    "for i in range(num+1):\n",
    "    ax[i].set_xticklabels([]) \n",
    "    ax[i].set_yticklabels([]) \n",
    "    ax[i].tick_params(color = \"white\") \n",
    "    \n",
    "#influencer = yellow   \n",
    "nx.draw_networkx_edges(G,pos7,edge_color=\"blue\",ax = ax[0],alpha  =0.9)\n",
    "nx.draw_networkx_nodes(G,pos7,node_color=init_color, ax = ax[0],node_size=100,alpha =0.9)\n",
    "\n",
    "for i in range (num):\n",
    "    nx.draw_networkx_edges(G,pos7,edge_color=\"blue\",ax = ax[i+1],alpha =0.9)\n",
    "    nx.draw_networkx_nodes(G,pos7,node_color=color_list[i], ax = ax[i+1],alpha =0.9,node_size=100)\n",
    "\n",
    "# plt.savefig('influencer2%.png')\n",
    "plt.axis('off')\n",
    "plt.figure(figsize=(20,15))\n",
    "plt.show()\n"
   ]
  },
  {
   "cell_type": "code",
   "execution_count": 5,
   "metadata": {
    "collapsed": false
   },
   "outputs": [],
   "source": [
    "def priceSeries():\n",
    "    random.seed(None)\n",
    "    price = 0\n",
    "    prices = [price]\n",
    "    delta_series = []\n",
    "    # generate first L days series by random walk  for calculating R(t)\n",
    "    for i in range(L):\n",
    "        init_decision()\n",
    "        delta = count()\n",
    "        price+=delta\n",
    "        prices.append(price)\n",
    "        delta_series.append(delta)\n",
    "\n",
    "    for play in range(num_play):\n",
    "        delta = IC_model_diffusion(G,1)\n",
    "        price +=delta\n",
    "        prices.append(price)\n",
    "        delta_series.append(delta)\n",
    "#     plt.plot(prices[:])\n",
    "    return prices, delta_series"
   ]
  },
  {
   "cell_type": "markdown",
   "metadata": {},
   "source": [
    "#### ICモデルの同調行動の適用前後(step = 500)の価格変動量"
   ]
  },
  {
   "cell_type": "code",
   "execution_count": 6,
   "metadata": {
    "collapsed": false
   },
   "outputs": [
    {
     "data": {
      "text/plain": [
       "<matplotlib.lines.Line2D at 0x11747ef98>"
      ]
     },
     "execution_count": 6,
     "metadata": {},
     "output_type": "execute_result"
    },
    {
     "data": {
      "image/png": "[encoded data removed]",
      "text/plain": [
       "<Figure size 432x288 with 1 Axes>"
      ]
     },
     "metadata": {},
     "output_type": "display_data"
    }
   ],
   "source": [
    "L = 500\n",
    "prices,delta_series = priceSeries()\n",
    "plt.plot(delta_series)\n",
    "plt.axvline(x = 500, linestyle = \"dashed\",color = \"orange\")"
   ]
  },
  {
   "cell_type": "markdown",
   "metadata": {},
   "source": [
    "### volatility with defferent diffusion probabolities"
   ]
  },
  {
   "cell_type": "code",
   "execution_count": 7,
   "metadata": {
    "collapsed": false
   },
   "outputs": [],
   "source": [
    "def priceSeries_test2(): \n",
    "    price = 0\n",
    "    prices = [price]\n",
    "    delta_series = []\n",
    "    # generate first L days series by random walk  for calculating R(t)\n",
    "    diffusion_probability = 0\n",
    "    for play in range(1200):\n",
    "        if play%200 == 0 and play !=0:\n",
    "            diffusion_probability +=0.2\n",
    "        delta = IC_model_diffusion(G,diffusion_probability)\n",
    "        price +=delta\n",
    "        prices.append(price)\n",
    "        delta_series.append(delta)\n",
    "#     plt.plot(prices[:])\n",
    "    return prices, delta_series\n",
    "prices, delta_series = priceSeries_test2()"
   ]
  },
  {
   "cell_type": "code",
   "execution_count": 8,
   "metadata": {
    "collapsed": false
   },
   "outputs": [
    {
     "data": {
      "image/png": "[encoded data removed]",
      "text/plain": [
       "<Figure size 720x504 with 2 Axes>"
      ]
     },
     "metadata": {},
     "output_type": "display_data"
    }
   ],
   "source": [
    "fig,ax= plt.subplots(2,1,figsize=(10,7))\n",
    "abs_delta =np.abs(delta_series)\n",
    "ax[0].plot(abs_delta)\n",
    "for i in range(5):\n",
    "    ax[0].axvline(x = 200*(i+1), linestyle = \"dashed\",color = \"orange\")\n",
    "s = []\n",
    "for loc in range(6):\n",
    "    tmp = np.average(abs_delta[loc*200:loc*200+200])\n",
    "    s.append(tmp)\n",
    "ax[1].bar([0+0.2*i for i in range(6)],s,width = 0.05)\n",
    "ax[0].set_xlim([0,1200]) \n",
    "ax[0].set_xlabel(\"time step\")\n",
    "ax[1].set_xlabel(\"diffusion probability\")\n",
    "plt.show()"
   ]
  },
  {
   "cell_type": "markdown",
   "metadata": {},
   "source": [
    "#### 拡散係数の算出"
   ]
  },
  {
   "cell_type": "markdown",
   "metadata": {},
   "source": [
    "It has been reported in that the relative portion $\\xi_l$ of investors with a $l$ days investment horizon follows a power-law decay,\n",
    "$$\n",
    " \\xi_l = \\frac{l^{-1.12}}{\\sum^L_{l=1}l^{-1.12}}\n",
    "$$\n",
    "\n",
    "so I introduce a weighted average retrun $R'(t)$ defined as\n",
    "$$\n",
    "R'(t) = k\\sum^L_{l=1}[\\xi_l \\sum^{l-1}_{m=0}R(t-m)]\n",
    "$$\n",
    "\n",
    "where $R(t)$ is price return and cofficeint $k$ is set as \n",
    "$$\n",
    "k = \\frac{1}{\\sum^L_{l=1}\\sum^L_{m=l}\\xi_m}\n",
    "$$"
   ]
  },
  {
   "cell_type": "code",
   "execution_count": 9,
   "metadata": {
    "collapsed": false
   },
   "outputs": [
    {
     "ename": "TypeError",
     "evalue": "ave_return() takes 0 positional arguments but 1 was given",
     "output_type": "error",
     "traceback": [
      "\u001b[0;31m---------------------------------------------------------------------------\u001b[0m",
      "\u001b[0;31mTypeError\u001b[0m                                 Traceback (most recent call last)",
      "\u001b[0;32m<ipython-input-9-e02337f75f73>\u001b[0m in \u001b[0;36m<module>\u001b[0;34m()\u001b[0m\n\u001b[1;32m     20\u001b[0m     \u001b[0;32mreturn\u001b[0m \u001b[0mnp\u001b[0m\u001b[0;34m.\u001b[0m\u001b[0mabs\u001b[0m\u001b[0;34m(\u001b[0m\u001b[0mk\u001b[0m\u001b[0;34m*\u001b[0m\u001b[0mr\u001b[0m\u001b[0;34m)\u001b[0m\u001b[0;34m\u001b[0m\u001b[0m\n\u001b[1;32m     21\u001b[0m \u001b[0;34m\u001b[0m\u001b[0m\n\u001b[0;32m---> 22\u001b[0;31m \u001b[0mprint\u001b[0m\u001b[0;34m(\u001b[0m\u001b[0mave_return\u001b[0m\u001b[0;34m(\u001b[0m\u001b[0mprices\u001b[0m\u001b[0;34m)\u001b[0m\u001b[0;34m)\u001b[0m\u001b[0;34m\u001b[0m\u001b[0m\n\u001b[0m\u001b[1;32m     23\u001b[0m \u001b[0;34m\u001b[0m\u001b[0m\n\u001b[1;32m     24\u001b[0m \u001b[0;32mdef\u001b[0m \u001b[0mdeffusion_probability\u001b[0m\u001b[0;34m(\u001b[0m\u001b[0mprices\u001b[0m\u001b[0;34m)\u001b[0m\u001b[0;34m:\u001b[0m\u001b[0;34m\u001b[0m\u001b[0m\n",
      "\u001b[0;31mTypeError\u001b[0m: ave_return() takes 0 positional arguments but 1 was given"
     ]
    }
   ],
   "source": [
    "L = 30 # \n",
    "alpha = 5/N # deffusion_probability takes in range [0.076, 0.924]\n",
    "\n",
    "def  xi(l):\n",
    "    ans = 0\n",
    "    for l in range(1,L+1):\n",
    "        ans+= l**-1.12\n",
    "    return l**-1.12/ans\n",
    "\n",
    "def ave_return(pct_price):\n",
    "    r = 0\n",
    "    # cofficient k\n",
    "    k = 0\n",
    "    for l in range(1,L+1):\n",
    "        for m in range(l,L+1):\n",
    "            k  += xi(m)\n",
    "    for l in range(1,L+1):\n",
    "        for m in range(0,l):\n",
    "            r += xi(l)*pct_price[-m-1] # -N<=r<=N  # prices じゃなくて変動率で算出しないとだめ\n",
    "    return np.abs(k*r)\n",
    "\n",
    "print(ave_return(prices))\n",
    "\n",
    "def deffusion_probability(prices):\n",
    "    r = ave_return(prices)-N/2\n",
    "    print(r)\n",
    "    return 1/(1+np.exp(-alpha*r))\n",
    "    \n",
    "# deffusion_probability(prices)"
   ]
  }
 ],
 "metadata": {
  "kernelspec": {
   "display_name": "Python 3",
   "language": "python",
   "name": "python3"
  },
  "language_info": {
   "codemirror_mode": {
    "name": "ipython",
    "version": 3
   },
   "file_extension": ".py",
   "mimetype": "text/x-python",
   "name": "python",
   "nbconvert_exporter": "python",
   "pygments_lexer": "ipython3",
   "version": "3.6.0"
  },
  "toc": {
   "base_numbering": 1,
   "nav_menu": {},
   "number_sections": true,
   "sideBar": true,
   "skip_h1_title": false,
   "title_cell": "Table of Contents",
   "title_sidebar": "Contents",
   "toc_cell": false,
   "toc_position": {},
   "toc_section_display": true,
   "toc_window_display": false
  }
 },
 "nbformat": 4,
 "nbformat_minor": 2
}
