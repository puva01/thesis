{
 "cells": [
  {
   "cell_type": "markdown",
   "metadata": {},
   "source": [
    "### Generation of series on Artificial Market and calculation of Fitness"
   ]
  },
  {
   "cell_type": "markdown",
   "metadata": {},
   "source": [
    "#### Methods on artificial market"
   ]
  },
  {
   "cell_type": "code",
   "execution_count": 66,
   "metadata": {
    "collapsed": false
   },
   "outputs": [],
   "source": [
    "import matplotlib.pyplot as plt\n",
    "import networkx as nx\n",
    "import random as rnd\n",
    "import numpy as np\n",
    "import collections\n",
    "%matplotlib inline\n",
    "\n",
    "N = 500  # number of agent\n",
    "p_sell =0.4\n",
    "p_buy =0.4\n",
    "num_play = 365*3\n",
    "\n",
    "\n",
    "class Agent:\n",
    "    def  __init__(self,id):\n",
    "        self.id = id\n",
    "        self.choice = None\n",
    "        self.strategy = None # hold\n",
    "        self.buy = p_buy\n",
    "        self.sell = p_sell\n",
    "def  init_decision():\n",
    "    random.seed(None)\n",
    "    for focal in agent_list:\n",
    "        r = rnd.random()\n",
    "        if 0<= r<focal.buy:\n",
    "            focal.choice = 'buy'\n",
    "            focal.strategy = 1\n",
    "        elif focal.buy<=r<=focal.buy+focal.sell:\n",
    "            focal.choice = 'sell'\n",
    "            focal.strategy = -1\n",
    "        else: \n",
    "            focal.choice = 'hold'\n",
    "            focal.strategy= 0\n",
    "            \n",
    "agent_list = [Agent(id) for id in range(N)]\n",
    "\n",
    "def count():\n",
    "    delta = sum(list(map(lambda agent:agent.strategy, agent_list)))\n",
    "    return delta\n",
    "\n",
    "def find_hub():\n",
    "    degree_sequence = sorted([d for n, d in G.degree().items()])\n",
    "    degreeCount = collections.Counter(degree_sequence)\n",
    "    #calculate path lenght to the nearest influencer and inflencer node. \n",
    "    par = 0.7 # upper 100*(1-par)%  \n",
    "    hub = [n for n, d in G.degree().items() if d>max(degreeCount.keys())*par]\n",
    "    return hub\n",
    "\n",
    "def find_influencer(G, hub):\n",
    "    inf = []\n",
    "    length = []\n",
    "    store = [] # [influencer node, path length to influencer]\n",
    "    isolates = nx.isolates(G)\n",
    "    l1 = []\n",
    "    l2 = []\n",
    "    # find nodes which have no path to hub, then store in sub  \n",
    "    sub=[] \n",
    "    for n in range(N):\n",
    "        ns = nx.node_connected_component(G,n)\n",
    "        if not ns & set(hub):sub.append(n)    \n",
    "\n",
    "    tmp = []\n",
    "    for n in G.degree().keys():\n",
    "        if n in hub or n in isolates or n in sub:\n",
    "            store.append([n,0])\n",
    "        else:\n",
    "            for h in hub:\n",
    "                try:\n",
    "                    tmp.append(nx.shortest_path_length(G,n,h))\n",
    "                except:\n",
    "                    pass\n",
    "            mi = min(tmp)\n",
    "            store.append([hub[tmp.index(mi)], mi])\n",
    "            tmp.clear()\n",
    "    num = [i for i in range(N)]\n",
    "    #di = dict(zip(num,store)) # di = {node num:[nearest influencer, path length to nearest influencer]}\n",
    "    influencers = [s[0] for s in store]\n",
    "    lengths = [s[1] for s in store]\n",
    "    return influencers, lengths\n",
    "\n",
    "def update_strategy(agent_list, influencers, lengths):\n",
    "    for focal, i,l in zip(agent_list, influencers,lengths):\n",
    "        r = rnd.random()\n",
    "        p = 1-0.1*l\n",
    "        if 0<=r<p:\n",
    "            focal.strategy  =  agent_list[i].strategy\n",
    "\n",
    "def graph_to_gene(G):\n",
    "    mat = nx.to_numpy_array(G)\n",
    "    gene = []\n",
    "    for i in range(N-1):\n",
    "        tmp = mat[i,i+1:]\n",
    "        gene.extend(tmp)\n",
    "    return gene\n",
    "\n",
    "def gene_to_graph(gene):\n",
    "    mat = np.zeros((N,N))\n",
    "    loc = 0\n",
    "    for i in range(0,N):\n",
    "        mat[i,i+1:]  = gene[loc:loc+(N-i-1)]\n",
    "        loc +=N-i-1\n",
    "    mat  = mat+ mat.T\n",
    "    G = nx.from_numpy_matrix(mat)\n",
    "    return G\n",
    "\n",
    "def generate_graph(N):\n",
    "    G  =nx.gnp_random_graph(N,0.2)\n",
    "    gene = graph_to_gene(G)\n",
    "    return gene\n",
    "\n",
    "def extract_influencers(G):\n",
    "    PCT = 0.05 #choose as influencer from upper \"pct\" of degree centrality\n",
    "    degree_centers = nx.degree_centrality(G)\n",
    "    degree_list = sorted(degree_centers.items(), key=lambda x: x[1], reverse=True)\n",
    "    influencers = [agent_list[degree_list[i][0]] for i in range(len(G))][0:int(len(G)*PCT)]\n",
    "    return influencers"
   ]
  },
  {
   "cell_type": "markdown",
   "metadata": {},
   "source": [
    "#### Modeling herding behavior (diffusion) by Independent Cascade Model "
   ]
  },
  {
   "cell_type": "code",
   "execution_count": 67,
   "metadata": {
    "collapsed": true
   },
   "outputs": [],
   "source": [
    "def IC_model_diffusion(G, diffusion_probability):\n",
    "    random.seed(None)\n",
    "    DPROB = diffusion_probability     #拡散確率\n",
    "    init_decision()\n",
    "    influencers = extract_influencers(G)\n",
    "    influencers_list = [i.id for i in influencers]   \n",
    "#     print(\"init decision\",[agent_list[i].choice for i in range(len(G))])\n",
    "#     print(\"influencer\",influencers_list)\n",
    "#     print (\"influencer's choice\",[agent_list[i].choice for i in influencers_list])\n",
    "\n",
    "\n",
    "    informed = []\n",
    "    informed.extend(influencers_list) # 始めにインフルエンサーを格納しておく\n",
    "    state = \"ongoing\" # state is \"ongoing\" or \"end\". if \"ongoing\" difussion go next step otherewise finish.\n",
    "\n",
    "    while state == \"ongoing\":\n",
    "        state = \"end\"\n",
    "\n",
    "        # opinions の中にインフルエンサーによる決断の影響を格納\n",
    "        opinions = [{\"buy\":0,\"sell\":0,\"hold\":0} for i in range(len(G))] # reset opinions\n",
    "        #print(\"inf list\",[i.id for i in influencers])\n",
    "        for infl in influencers:\n",
    "            for focal in G.neighbors(infl.id) :\n",
    "                opinions[focal][infl.choice] +=1 \n",
    "        influencers = [] # reset\n",
    "        #print(\"opinion\",opinions)\n",
    "\n",
    "        for focal in agent_list:\n",
    "            if focal.id not in informed:\n",
    "                i = focal.id\n",
    "                if opinions[i]['sell']!=0 or opinions[i]['buy']!=0 or opinions[i]['hold']!=0:\n",
    "                    r = rnd.random()\n",
    "                    if 0< r < DPROB: # 同調する場合\n",
    "                        buy_p = opinions[i]['buy'] /(opinions[i]['sell']+opinions[i]['buy']+ opinions[i]['hold'])\n",
    "                        sell_p = opinions[i]['sell'] /(opinions[i]['sell']+opinions[i]['buy']+ opinions[i]['hold'])\n",
    "                        hold_p = opinions[i]['hold'] /(opinions[i]['sell']+opinions[i]['buy']+ opinions[i]['hold'])\n",
    "                        if 0<= r<buy_p:\n",
    "                            focal.choice = 'buy'\n",
    "                            focal.strategy = 1\n",
    "                        elif buy_p<=r<=buy_p+sell_p:\n",
    "                            focal.choice = 'sell'\n",
    "                            focal.strategy = -1\n",
    "                        else: \n",
    "                            focal.choice = 'hold'\n",
    "                            focal.strategy= 0\n",
    "                    state = \"ongoing\" # 次の拡散へ続く\n",
    "                    informed.append(i)\n",
    "                    influencers.append(agent_list[i])\n",
    "#     print([i.choice for i in agent_list])\n",
    "    return count()"
   ]
  },
  {
   "cell_type": "markdown",
   "metadata": {},
   "source": [
    "#### Generation of Series on Artificial Market"
   ]
  },
  {
   "cell_type": "code",
   "execution_count": 68,
   "metadata": {
    "collapsed": true
   },
   "outputs": [],
   "source": [
    "def priceSeries(G): \n",
    "    price = 0\n",
    "    prices = [price]\n",
    "    delta_series = []\n",
    "    # generate first 500 steps series by random walk  for calculating R(t)\n",
    "#     for i in range(500):\n",
    "#         init_decision()\n",
    "#         delta = count()\n",
    "#         price+=delta\n",
    "#         delta_series.append(delta)\n",
    "\n",
    "    # use IC model after 500 steps   \n",
    "    for play in range(num_play):\n",
    "        delta = IC_model_diffusion(G,1)\n",
    "        price +=delta\n",
    "        prices.append(price)\n",
    "        delta_series.append(delta)\n",
    "\n",
    "#draw price movement\n",
    "#     plt.plot(prices, label=\"price\")\n",
    "#     plt.title(\"Simulation Result\")\n",
    "#     plt.ylabel(\"price\")\n",
    "#     plt.xlabel(\"time step\")\n",
    "#     plt.grid(\"on\")\n",
    "#     plt.legend()\n",
    "#     plt.show()\n",
    "#     print (transform_into_gene(G))\n",
    "    return prices, delta_series"
   ]
  },
  {
   "cell_type": "markdown",
   "metadata": {},
   "source": [
    "#### Evaluation Function (kutosis(original series)，in ±σ,out ±3σ(return series), autocorrelation(differencing series, LAG=1))"
   ]
  },
  {
   "cell_type": "code",
   "execution_count": 75,
   "metadata": {
    "collapsed": true
   },
   "outputs": [],
   "source": [
    "import datetime \n",
    "import pandas as pd \n",
    "import pandas_datareader.data as web\n",
    "import scipy.stats as sp\n",
    "import numpy as np\n",
    "\n",
    "def evaluate(individual):\n",
    "    # statistics of SP500\n",
    "    kuto = 5.0\n",
    "    sig1 = 0.79\n",
    "    sig3 = 0.056\n",
    "    autocorr = 0.291\n",
    "    \n",
    "    G1 = gene_to_graph(individual)\n",
    "    _,x = priceSeries(G1)\n",
    "    x = np.array(x)\n",
    "    # kutosis\n",
    "    kutosis = sp.kurtosis(x)\n",
    "    \n",
    "    # sigma\n",
    "#     tmp  =pd.Series(prices).pct_change()\n",
    "#     df  =pd.DataFrame(tmp)\n",
    "#     df = df.replace(-np.inf,np.nan).replace(np.inf,np.nan).dropna()\n",
    "#     x = df.ix[:,0]\n",
    "    in_1sigma = len([i for i in x if np.average(x)-np.std(x)<i<np.average(x)+np.std(x)])/len(x)\n",
    "    out_3sigma = len([i for i in x if i<np.average(x)-np.std(x)*2 or i>np.average(x)+np.std(x)*2])/len(x)\n",
    "    a = np.round(abs(kuto -kutosis),4)\n",
    "    b = np.round(abs(sig1-in_1sigma),4)\n",
    "    c = np.round(abs(sig3-out_3sigma),4)\n",
    "    \n",
    "    # autocorrelation(LAG = 1)\n",
    "    LAG = 1\n",
    "    diff = x**2\n",
    "    diff_mean = np.mean(diff) \n",
    "    corr = np.sum((diff[LAG:] - diff_mean)*(diff[:-LAG] - diff_mean))  / np.sum((diff - diff_mean)**2) \n",
    "    d = np.round(abs(corr-autocorr),4)\n",
    "    return a,b,c,d"
   ]
  },
  {
   "cell_type": "markdown",
   "metadata": {},
   "source": [
    "#### Optimization by multi-objective GA (NSGA-2) (main method)"
   ]
  },
  {
   "cell_type": "code",
   "execution_count": 78,
   "metadata": {
    "collapsed": false
   },
   "outputs": [],
   "source": [
    "import array\n",
    "import random\n",
    "\n",
    "import numpy\n",
    "\n",
    "from math import sqrt\n",
    "\n",
    "from deap import algorithms\n",
    "from deap import base\n",
    "from deap.benchmarks.tools import diversity, convergence, hypervolume\n",
    "from deap import creator\n",
    "from deap import tools\n",
    "import copy \n",
    "\n",
    "\n",
    "creator.create(\"FitnessMaX\", base.Fitness, weights=(-1.0,-1.0,-1.0,-1.0))\n",
    "creator.create(\"IndividuaL\", list, fitness=creator.FitnessMaX)\n",
    "\n",
    "toolbox  = base.Toolbox()\n",
    "\n",
    "toolbox.register(\"attr_bool\", random.randint, 0, 1)\n",
    "# toolbox.register(\"individual\", tools.initRepeat, creator.Individual, toolbox.attr_bool, int(1/2*N*(N-1)))\n",
    "toolbox.register(\"individual\", tools.initRepeat, creator.IndividuaL, toolbox.attr_bool, int(1/2*N*(N-1)))\n",
    "toolbox.register(\"population\", tools.initRepeat, list, toolbox.individual)\n",
    "\n",
    "toolbox.register(\"select\", tools.selNSGA2)\n",
    "toolbox.register(\"mate\", tools.cxTwoPoint)\n",
    "toolbox.register(\"mutate\", tools.mutFlipBit, indpb=0.05)\n",
    "toolbox.register(\"evaluate\",evaluate,)\n",
    "\n",
    "\n",
    "def main(seed=None):\n",
    "    random.seed(seed)\n",
    "\n",
    "    NGEN = 20\n",
    "    CXPB = 0.8\n",
    "    MU = 20\n",
    "\n",
    "    stats = tools.Statistics(lambda ind: ind.fitness.values) #  argument of stats is poplation. \n",
    "    stats.register(\"avg\", numpy.mean, axis=0)\n",
    "#     stats.register(\"std\", numpy.std, axis=0)\n",
    "    stats.register(\"min\", numpy.min, axis=0)\n",
    "    stats.register(\"max\", numpy.max, axis=0)\n",
    "    \n",
    "    logbook = tools.Logbook()\n",
    "    logbook.header = \"gen\", \"min\", \"avg\", \"max\"  # does \"evals\" need??\n",
    "    \n",
    "    pop = toolbox.population(n=MU)\n",
    "    pop_first = copy.deepcopy(pop)\n",
    "    # Evaluate the individuals with an invalid fitness\n",
    "    invalid_ind = [ind for ind in pop if not ind.fitness.valid]\n",
    "    fitnesses = toolbox.map(toolbox.evaluate, invalid_ind)\n",
    "    for ind, fit in zip(invalid_ind, fitnesses):\n",
    "        ind.fitness.values = fit\n",
    "\n",
    "    # This is just to assign the crowding distance to the individuals\n",
    "    # no actual selection is done\n",
    "    pop = toolbox.select(pop, len(pop))\n",
    "\n",
    "    record = stats.compile(pop)\n",
    "    logbook.record(gen=0, evals=len(invalid_ind), **record)\n",
    "    print(logbook.stream)\n",
    "\n",
    "    # Begin the generational process\n",
    "    for gen in range(1, NGEN):\n",
    "        # Vary the population\n",
    "        offspring = tools.selTournamentDCD(pop, len(pop))\n",
    "        offspring = [toolbox.clone(ind) for ind in offspring]\n",
    "        \n",
    "        for ind1, ind2 in zip(offspring[::2], offspring[1::2]):\n",
    "            if random.random() <= CXPB:\n",
    "                toolbox.mate(ind1, ind2)\n",
    "            \n",
    "            toolbox.mutate(ind1)\n",
    "            toolbox.mutate(ind2)\n",
    "            del ind1.fitness.values, ind2.fitness.values\n",
    "        \n",
    "        # Evaluate the individuals with an invalid fitness\n",
    "        invalid_ind = [ind for ind in offspring if not ind.fitness.valid]\n",
    "        fitnesses = toolbox.map(toolbox.evaluate, invalid_ind)\n",
    "        for ind, fit in zip(invalid_ind, fitnesses):\n",
    "            ind.fitness.values = fit\n",
    "\n",
    "        # Select the next generation population\n",
    "        pop = toolbox.select(pop + offspring, MU)\n",
    "        record = stats.compile(pop)\n",
    "        logbook.record(gen=gen, evals=len(invalid_ind), **record)\n",
    "        print(logbook.stream)\n",
    "\n",
    "\n",
    "    #print(\"Final population hypervolume is %f\" % hypervolume(pop, [11.0, 11.0]))\n",
    "\n",
    "    return pop_first ,pop, logbook \n"
   ]
  },
  {
   "cell_type": "code",
   "execution_count": 74,
   "metadata": {
    "collapsed": false
   },
   "outputs": [],
   "source": [
    "if __name__ == \"__main__\":\n",
    "    pop0,pop, logbook= main()\n",
    "    "
   ]
  },
  {
   "cell_type": "markdown",
   "metadata": {
    "collapsed": true
   },
   "source": [
    "### Simulation result"
   ]
  },
  {
   "cell_type": "code",
   "execution_count": 152,
   "metadata": {
    "collapsed": false
   },
   "outputs": [],
   "source": [
    "# generate graph from pop\n",
    "\n",
    "def pop_to_graph(pop):\n",
    "    g = []\n",
    "    for i in range(20): # MU =20\n",
    "        g.append(gene_to_graph(pop[i]))\n",
    "    return g\n",
    "g0 = pop_to_graph(pop0)\n",
    "g = pop_to_graph(pop)"
   ]
  },
  {
   "cell_type": "markdown",
   "metadata": {},
   "source": [
    "#### looks of graph"
   ]
  },
  {
   "cell_type": "code",
   "execution_count": 153,
   "metadata": {
    "collapsed": false
   },
   "outputs": [],
   "source": [
    "def draw_graph(g):\n",
    "    fig,ax = plt.subplots(5,4,figsize = (20,16))\n",
    "    loc = 0\n",
    "    for i in range(5):\n",
    "        for j in range(4):\n",
    "            nx.draw(g[loc],ax = ax[i,j],alpha=0.7)\n",
    "            loc +=1"
   ]
  },
  {
   "cell_type": "code",
   "execution_count": 155,
   "metadata": {
    "collapsed": false
   },
   "outputs": [],
   "source": [
    "# draw_graph(g)"
   ]
  },
  {
   "cell_type": "markdown",
   "metadata": {},
   "source": [
    "#### Degree histgram"
   ]
  },
  {
   "cell_type": "code",
   "execution_count": 157,
   "metadata": {
    "collapsed": false
   },
   "outputs": [
    {
     "data": {
      "image/png": "[encoded data removed]",
      "text/plain": [
       "<Figure size 1440x1152 with 20 Axes>"
      ]
     },
     "metadata": {},
     "output_type": "display_data"
    }
   ],
   "source": [
    "import collections\n",
    "def draw_degree_hist(g):\n",
    "    fig,ax = plt.subplots(5,4,figsize = (20,16))\n",
    "    loc = 0\n",
    "    for i in range(5):\n",
    "        for j in range(4):\n",
    "            degree_sequence = sorted([d for n, d in g[loc].degree()], reverse=True)\n",
    "            degreeCount = collections.Counter(degree_sequence)\n",
    "            deg, cnt = zip(*degreeCount.items())\n",
    "            ax[i,j].bar(deg, cnt, width=0.80, color='b')\n",
    "            loc +=1\n",
    "    plt.show()\n",
    "draw_degree_hist(g0)"
   ]
  },
  {
   "cell_type": "markdown",
   "metadata": {},
   "source": [
    "#### Average degree"
   ]
  },
  {
   "cell_type": "code",
   "execution_count": 159,
   "metadata": {
    "collapsed": false
   },
   "outputs": [
    {
     "name": "stdout",
     "output_type": "stream",
     "text": [
      "first_pop: 49.417\n",
      "final_pop: 49.446\n"
     ]
    }
   ],
   "source": [
    "def ave_degree(g):\n",
    "    av =[]\n",
    "    for i in range(len(g)):\n",
    "        av.extend([d for n, d in g[i].degree()])\n",
    "    degree_ave = np.average(av)\n",
    "    return degree_ave\n",
    "print(\"first_pop:\",ave_degree(g0))\n",
    "print(\"final_pop:\",ave_degree(g))"
   ]
  },
  {
   "cell_type": "code",
   "execution_count": null,
   "metadata": {
    "collapsed": true
   },
   "outputs": [],
   "source": []
  }
 ],
 "metadata": {
  "kernelspec": {
   "display_name": "Python 3",
   "language": "python",
   "name": "python3"
  },
  "language_info": {
   "codemirror_mode": {
    "name": "ipython",
    "version": 3
   },
   "file_extension": ".py",
   "mimetype": "text/x-python",
   "name": "python",
   "nbconvert_exporter": "python",
   "pygments_lexer": "ipython3",
   "version": "3.6.0"
  },
  "toc": {
   "base_numbering": 1,
   "nav_menu": {},
   "number_sections": true,
   "sideBar": true,
   "skip_h1_title": false,
   "title_cell": "Table of Contents",
   "title_sidebar": "Contents",
   "toc_cell": false,
   "toc_position": {},
   "toc_section_display": true,
   "toc_window_display": false
  }
 },
 "nbformat": 4,
 "nbformat_minor": 2
}
