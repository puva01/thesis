{
 "cells": [
  {
   "cell_type": "code",
   "execution_count": 404,
   "metadata": {
    "collapsed": false
   },
   "outputs": [],
   "source": [
    "import matplotlib.pyplot as plt\n",
    "import networkx as nx\n",
    "import random as rnd\n",
    "import numpy as np\n",
    "import collections\n",
    "%matplotlib inline\n",
    "\n",
    "N = 5\n",
    "p_sell =0.4\n",
    "p_buy =0.4\n",
    "num_play = 365\n",
    "\n",
    "class Agent:\n",
    "    def  __init__(self,id):\n",
    "        self.id = id\n",
    "        self.strategy = None # hold\n",
    "        self.buy = p_buy\n",
    "        self.sell = p_sell"
   ]
  },
  {
   "cell_type": "code",
   "execution_count": 426,
   "metadata": {
    "collapsed": false
   },
   "outputs": [],
   "source": [
    "def  decision(agent_list):\n",
    "    for focal in agent_list:\n",
    "        r = rnd.random()\n",
    "        if 0<= r<focal.buy:\n",
    "            focal.strategy = 1\n",
    "        elif focal.buy<=r<=focal.buy+focal.sell:\n",
    "            focal.strategy = -1\n",
    "        else: \n",
    "            focal.strategy= 0\n",
    "\n",
    "def count(agent_list):\n",
    "    delta = sum(list(map(lambda agent:agent.strategy, agent_list)))\n",
    "    return delta\n",
    "\n",
    "def find_hub(G):\n",
    "    degree_sequence = sorted([d for n, d in G.degree().items()])\n",
    "    degreeCount = collections.Counter(degree_sequence)\n",
    "    #calculate path lenght to the nearest influencer and inflencer node. \n",
    "    par = 0.7 # upper 100*(1-par)%  \n",
    "    hub = [n for n, d in G.degree().items() if d>max(degreeCount.keys())*par]\n",
    "    return hub\n",
    "\n",
    "def find_influencer(G, hub):\n",
    "    inf = []\n",
    "    length = []\n",
    "    store = [] # [influencer node, path length to influencer]\n",
    "    isolates = nx.isolates(G)\n",
    "    l1 = []\n",
    "    l2 = []\n",
    "    # find nodes which have no path to hub, then store in sub  \n",
    "    sub=[] \n",
    "    for n in range(N):\n",
    "        ns = nx.node_connected_component(G,n)\n",
    "        if not ns & set(hub):sub.append(n)    \n",
    "\n",
    "    tmp = []\n",
    "    for n in G.degree().keys():\n",
    "        if n in hub or n in isolates or n in sub:\n",
    "            store.append([n,0])\n",
    "        else:\n",
    "            for h in hub:\n",
    "                try:\n",
    "                    tmp.append(nx.shortest_path_length(G,n,h))\n",
    "                except:\n",
    "                    pass\n",
    "            mi = min(tmp)\n",
    "            store.append([hub[tmp.index(mi)], mi])\n",
    "            tmp.clear()\n",
    "    num = [i for i in range(N)]\n",
    "    #di = dict(zip(num,store)) # di = {node num:[nearest influencer, path length to nearest influencer]}\n",
    "    influencers = [s[0] for s in store]\n",
    "    lengths = [s[1] for s in store]\n",
    "    return influencers, lengths\n",
    "\n",
    "def update_strategy(agent_list, influencers, lengths):\n",
    "    for focal, i,l in zip(agent_list, influencers,lengths):\n",
    "        r = rnd.random()\n",
    "        p = 1-0.1*l\n",
    "        if 0<=r<p:\n",
    "            focal.strategy  =  agent_list[i].strategy\n",
    "        "
   ]
  },
  {
   "cell_type": "code",
   "execution_count": 433,
   "metadata": {
    "collapsed": false
   },
   "outputs": [
    {
     "data": {
      "image/png": "[encoded data removed]",
      "text/plain": [
       "<matplotlib.figure.Figure at 0x10acfa908>"
      ]
     },
     "metadata": {},
     "output_type": "display_data"
    }
   ],
   "source": [
    "def main():\n",
    "    agent_list = [Agent(id) for id in range(N)]\n",
    "    price = 0\n",
    "    prices = [price]\n",
    "    G = nx.gnp_random_graph(N, 0.15)\n",
    "    hub = find_hub(G)\n",
    "    inflencers, lengths = find_influencer(G, hub)\n",
    "    for play in range(num_play):\n",
    "        decision(agent_list)\n",
    "        update_strategy(agent_list, inflencers, lengths)\n",
    "        delta = count(agent_list)\n",
    "        price +=delta\n",
    "        prices.append(price)\n",
    "    plt.plot(prices)\n",
    "    plt.xlabel(\"time step\")\n",
    "    plt.ylabel(\"price\")\n",
    "    plt.title(\"simulation result\")\n",
    "    plt.show()\n",
    "\n",
    "if __name__ == \"__main__\":\n",
    "    main()"
   ]
  },
  {
   "cell_type": "code",
   "execution_count": null,
   "metadata": {
    "collapsed": true
   },
   "outputs": [],
   "source": [
    "# agent_list = [Agent(id) for id in range(N)]\n",
    "# G = nx.gnp_random_graph(N, 0.15)\n",
    "# hub = find_hub(G)\n",
    "# inf, length = find_influencer(G,hub)\n",
    "# for i in range(N):\n",
    "#     print (agent_list[i].strategy )       \n",
    "# decision(agent_list)\n",
    "# for i in range(N):\n",
    "#     print (agent_list[i].strategy )     \n",
    "# update_strategy(agent_list,inf,length)\n",
    "# print(\"---*10\")\n",
    "# for i in range(N):\n",
    "#     print (agent_list[i].strategy ) "
   ]
  }
 ],
 "metadata": {
  "kernelspec": {
   "display_name": "Python 3",
   "language": "python",
   "name": "python3"
  },
  "language_info": {
   "codemirror_mode": {
    "name": "ipython",
    "version": 3
   },
   "file_extension": ".py",
   "mimetype": "text/x-python",
   "name": "python",
   "nbconvert_exporter": "python",
   "pygments_lexer": "ipython3",
   "version": "3.6.0"
  },
  "toc": {
   "base_numbering": 1,
   "nav_menu": {},
   "number_sections": true,
   "sideBar": true,
   "skip_h1_title": false,
   "title_cell": "Table of Contents",
   "title_sidebar": "Contents",
   "toc_cell": false,
   "toc_position": {},
   "toc_section_display": true,
   "toc_window_display": false
  }
 },
 "nbformat": 4,
 "nbformat_minor": 2
}
