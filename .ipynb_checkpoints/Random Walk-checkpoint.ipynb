{
 "cells": [
  {
   "cell_type": "code",
   "execution_count": 5,
   "metadata": {
    "collapsed": true
   },
   "outputs": [],
   "source": [
    "def gcb(a,b):\n",
    "    r = a%b\n",
    "    if r ==0:\n",
    "        return b\n",
    "    else:\n",
    "        return gcb(b,r)"
   ]
  },
  {
   "cell_type": "code",
   "execution_count": 8,
   "metadata": {
    "collapsed": false
   },
   "outputs": [
    {
     "data": {
      "text/plain": [
       "3"
      ]
     },
     "execution_count": 8,
     "metadata": {},
     "output_type": "execute_result"
    }
   ],
   "source": [
    "gcb(255,6)"
   ]
  },
  {
   "cell_type": "code",
   "execution_count": 24,
   "metadata": {
    "collapsed": false
   },
   "outputs": [],
   "source": [
    "import numpy as np\n",
    "g = np.array([\n",
    "    [1, 2],    # A\n",
    "    [0, 2, 3], # B\n",
    "    [0, 1, 4], # C\n",
    "    [1, 4, 5], # D\n",
    "    [2, 3, 6], # E\n",
    "    [3],       # F\n",
    "    [4]        # G\n",
    "])"
   ]
  },
  {
   "cell_type": "code",
   "execution_count": 39,
   "metadata": {
    "collapsed": false
   },
   "outputs": [],
   "source": [
    "def search(goal, path):\n",
    "    n = path[-1]\n",
    "    if n == goal:\n",
    "        print(n)\n",
    "    else:\n",
    "        for x in g[n]:\n",
    "            if x not in path:\n",
    "                path.append(x)\n",
    "                search(goal, path)\n",
    "                path.pop()"
   ]
  },
  {
   "cell_type": "code",
   "execution_count": 40,
   "metadata": {
    "collapsed": false
   },
   "outputs": [
    {
     "name": "stdout",
     "output_type": "stream",
     "text": [
      "[0, 1, 2, 4, 6]\n",
      "[0, 1, 3, 4, 6]\n",
      "[0, 2, 1, 3, 4, 6]\n",
      "[0, 2, 4, 6]\n"
     ]
    }
   ],
   "source": [
    "search(6,[0])"
   ]
  },
  {
   "cell_type": "code",
   "execution_count": 53,
   "metadata": {
    "collapsed": false
   },
   "outputs": [],
   "source": [
    "def w(start, goal):\n",
    "    q = [[start]]\n",
    "    while len(q) !=0:\n",
    "        path = q.pop(0)\n",
    "        n = path[-1]\n",
    "        if n == goal:\n",
    "            print (path)\n",
    "        else:\n",
    "            for x in g[n]:\n",
    "                if x not in path:\n",
    "                    new_path  = path[:]\n",
    "                    new_path.append(x)\n",
    "                    q.append(new_path)\n",
    "                    print (q)"
   ]
  },
  {
   "cell_type": "code",
   "execution_count": 57,
   "metadata": {
    "collapsed": false
   },
   "outputs": [
    {
     "data": {
      "text/plain": [
       "7"
      ]
     },
     "execution_count": 57,
     "metadata": {},
     "output_type": "execute_result"
    }
   ],
   "source": [
    "g = np.array([\n",
    "    [0, 1, 1, 0, 0, 0, 0],\n",
    "    [1, 0, 1, 1, 0, 0, 0],\n",
    "    [1, 1, 0, 0, 1, 0, 0],\n",
    "    [0, 1, 0, 0, 1, 1, 0],\n",
    "    [0, 0, 1, 1, 0, 0, 1],\n",
    "    [0, 0, 0, 1, 0, 0, 0],\n",
    "    [0, 0, 0, 0, 1, 0, 0]\n",
    "])\n",
    "len(g[0])"
   ]
  },
  {
   "cell_type": "code",
   "execution_count": 74,
   "metadata": {
    "collapsed": false
   },
   "outputs": [],
   "source": [
    "def dfs(goal, path):\n",
    "    n = path[-1]\n",
    "    if n ==goal:\n",
    "        print (\"path:{} depth:{}\".format(path,len(path)-1))\n",
    "    else:\n",
    "        for i in range(len(g[0])):\n",
    "            if g[n][i] == 1 and i not in path:\n",
    "                       path.append(i)\n",
    "                       dfs(goal,path)\n",
    "                       path.pop()"
   ]
  },
  {
   "cell_type": "code",
   "execution_count": 75,
   "metadata": {
    "collapsed": false
   },
   "outputs": [
    {
     "name": "stdout",
     "output_type": "stream",
     "text": [
      "path:[0, 1, 2, 4, 6] depth:4\n",
      "path:[0, 1, 3, 4, 6] depth:4\n",
      "path:[0, 2, 1, 3, 4, 6] depth:5\n",
      "path:[0, 2, 4, 6] depth:3\n"
     ]
    }
   ],
   "source": [
    "dfs(6,[0])"
   ]
  }
 ],
 "metadata": {
  "kernelspec": {
   "display_name": "Python 3",
   "language": "python",
   "name": "python3"
  },
  "language_info": {
   "codemirror_mode": {
    "name": "ipython",
    "version": 3
   },
   "file_extension": ".py",
   "mimetype": "text/x-python",
   "name": "python",
   "nbconvert_exporter": "python",
   "pygments_lexer": "ipython3",
   "version": "3.6.0"
  }
 },
 "nbformat": 4,
 "nbformat_minor": 2
}
