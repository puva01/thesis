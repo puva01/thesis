{
 "cells": [
  {
   "cell_type": "code",
   "execution_count": 4,
   "metadata": {
    "collapsed": true
   },
   "outputs": [],
   "source": [
    "import numpy as np\n",
    "import random as rnd\n",
    "import networkx as nx\n",
    "import matplotlib.pyplot as plt\n",
    "import csv\n",
    "import collections\n",
    "\n",
    "%matplotlib inline"
   ]
  },
  {
   "cell_type": "markdown",
   "metadata": {},
   "source": [
    "## Agent class"
   ]
  },
  {
   "cell_type": "code",
   "execution_count": 170,
   "metadata": {
    "collapsed": false
   },
   "outputs": [],
   "source": [
    "N = 100 # number of Agent\n",
    "p= 0.3 # probability of trading (p_sell = p_buy, p_hold = 1-2p)\n",
    "num_play = 100 # number of total time step\n",
    "\n",
    "\n",
    "class Agent:\n",
    "    def __init__(self,id):\n",
    "        self.id = id\n",
    "        self.buy = p\n",
    "        self.sell = p \n",
    "        self.hold = 1-2*p \n",
    "        self.strategy = 0 # (= hold)\n",
    "    \n",
    "#describe using complex network\n",
    "def update_strategy(agent_list,length):\n",
    "    rnd.seed()\n",
    "    prob = [1-0.1*l[1] if l[1]<=10 else 0 for l in length]\n",
    "    hub_nodes = [l[0] for l in length]\n",
    "    for focal,l,h in zip(agent_list,prob,hub_nodes):\n",
    "        r = rnd.random()\n",
    "        if 0<r<=l:\n",
    "            focal.strategy = Agent(h).strategy \n",
    "            \n",
    "# each agent make decision independently before updating strategy  \n",
    "def decision(agent_list):\n",
    "    rnd.seed()\n",
    "    for focal in agent_list:\n",
    "        r = rnd.random()\n",
    "        if 0<=r<p: focal.strategy=1\n",
    "        elif p<r<=2*p: focal.strategy=-1\n",
    "        else: focal.strategy=0\n",
    "\n",
    "def count(agent_list):\n",
    "    delta = sum([focal.strategy for focal in agent_list])\n",
    "    return delta\n",
    "\n",
    "def findHub(G):\n",
    "    degree_sequence = sorted([d for n, d in G.degree().items()])\n",
    "    degreeCount = collections.Counter(degree_sequence)\n",
    "    par = 0.7 # upper 100*(1-par)%  \n",
    "    hub = [n for n, d in G.degree().items() if d>max(degreeCount.keys())*par]\n",
    "    return hub\n",
    "\n",
    "def path_length_to_hub(G):\n",
    "    degree_sequence = sorted([d for n, d in G.degree().items()])\n",
    "    degreeCount = collections.Counter(degree_sequence)\n",
    "    #calculate path lenght to the nearest influencer and inflencer node. \n",
    "    par = 0.7 # upper 100*(1-par)%  \n",
    "    hub = [n for n, d in G.degree().items() if d>max(degreeCount.keys())*par]\n",
    "    print(\"hub:{}\".format(hub))\n",
    "\n",
    "    store = [] # [influencer node, path length to influencer]\n",
    "    isolates = nx.isolates(G)\n",
    "    l1 = []\n",
    "    l2 = []\n",
    "    # find nodes which have no path to hub. \n",
    "    sub=[]\n",
    "    for n in range(N):\n",
    "        ns = nx.node_connected_component(G,n)\n",
    "        if not ns & set(hub):sub.append(n)    \n",
    "    print (\"sub\",sub)\n",
    "    print(\"isolates\",isolates)\n",
    "    kk = []\n",
    "    for n in G.degree().keys():\n",
    "        if n in hub or n in isolates or n in sub:\n",
    "            store.append([n,0])\n",
    "        else:\n",
    "            for x in hub:\n",
    "                kk.append(nx.shortest_path_length(G,n,x))\n",
    "            mi = min(kk)\n",
    "            store.append([hub[kk.index(mi)],mi])\n",
    "            kk.clear()\n",
    "    num = [i for i in range(N)]\n",
    "    di = dict(zip(num,store)) # di = {node num:[nearest influencer, path length to nearest influencer]}\n",
    "    length = [list(di.values())[i] for i in range(len(di))]\n",
    "    return length"
   ]
  },
  {
   "cell_type": "code",
   "execution_count": 104,
   "metadata": {
    "collapsed": false
   },
   "outputs": [
    {
     "name": "stdout",
     "output_type": "stream",
     "text": [
      "hub:[4, 8]\n"
     ]
    },
    {
     "ename": "KeyError",
     "evalue": "20",
     "output_type": "error",
     "traceback": [
      "\u001b[0;31m---------------------------------------------------------------------------\u001b[0m",
      "\u001b[0;31mKeyError\u001b[0m                                  Traceback (most recent call last)",
      "\u001b[0;32m<ipython-input-104-0108fac16817>\u001b[0m in \u001b[0;36m<module>\u001b[0;34m()\u001b[0m\n\u001b[1;32m      1\u001b[0m \u001b[0mG\u001b[0m  \u001b[0;34m=\u001b[0m \u001b[0mnx\u001b[0m\u001b[0;34m.\u001b[0m\u001b[0mgnm_random_graph\u001b[0m\u001b[0;34m(\u001b[0m\u001b[0;36m20\u001b[0m\u001b[0;34m,\u001b[0m\u001b[0;36m0.15\u001b[0m\u001b[0;34m)\u001b[0m\u001b[0;34m\u001b[0m\u001b[0m\n\u001b[0;32m----> 2\u001b[0;31m \u001b[0mpath_length_to_hub\u001b[0m\u001b[0;34m(\u001b[0m\u001b[0mG\u001b[0m\u001b[0;34m)\u001b[0m\u001b[0;34m\u001b[0m\u001b[0m\n\u001b[0m",
      "\u001b[0;32m<ipython-input-103-5a3d2a5a57f9>\u001b[0m in \u001b[0;36mpath_length_to_hub\u001b[0;34m(G)\u001b[0m\n\u001b[1;32m     57\u001b[0m     \u001b[0msub\u001b[0m\u001b[0;34m=\u001b[0m\u001b[0;34m[\u001b[0m\u001b[0;34m]\u001b[0m\u001b[0;34m\u001b[0m\u001b[0m\n\u001b[1;32m     58\u001b[0m     \u001b[0;32mfor\u001b[0m \u001b[0mn\u001b[0m \u001b[0;32min\u001b[0m \u001b[0mrange\u001b[0m\u001b[0;34m(\u001b[0m\u001b[0mN\u001b[0m\u001b[0;34m)\u001b[0m\u001b[0;34m:\u001b[0m\u001b[0;34m\u001b[0m\u001b[0m\n\u001b[0;32m---> 59\u001b[0;31m         \u001b[0mns\u001b[0m \u001b[0;34m=\u001b[0m \u001b[0mnx\u001b[0m\u001b[0;34m.\u001b[0m\u001b[0mnode_connected_component\u001b[0m\u001b[0;34m(\u001b[0m\u001b[0mG\u001b[0m\u001b[0;34m,\u001b[0m\u001b[0mn\u001b[0m\u001b[0;34m)\u001b[0m\u001b[0;34m\u001b[0m\u001b[0m\n\u001b[0m\u001b[1;32m     60\u001b[0m         \u001b[0;32mif\u001b[0m \u001b[0;32mnot\u001b[0m \u001b[0mns\u001b[0m \u001b[0;34m&\u001b[0m \u001b[0mset\u001b[0m\u001b[0;34m(\u001b[0m\u001b[0mhub\u001b[0m\u001b[0;34m)\u001b[0m\u001b[0;34m:\u001b[0m\u001b[0msub\u001b[0m\u001b[0;34m.\u001b[0m\u001b[0mappend\u001b[0m\u001b[0;34m(\u001b[0m\u001b[0mn\u001b[0m\u001b[0;34m)\u001b[0m\u001b[0;34m\u001b[0m\u001b[0m\n\u001b[1;32m     61\u001b[0m     \u001b[0mprint\u001b[0m \u001b[0;34m(\u001b[0m\u001b[0;34m\"sub\"\u001b[0m\u001b[0;34m,\u001b[0m\u001b[0msub\u001b[0m\u001b[0;34m)\u001b[0m\u001b[0;34m\u001b[0m\u001b[0m\n",
      "\u001b[0;32m<decorator-gen-161>\u001b[0m in \u001b[0;36mnode_connected_component\u001b[0;34m(G, n)\u001b[0m\n",
      "\u001b[0;32m/Users/puca/.pyenv/versions/anaconda3-4.3.1/lib/python3.6/site-packages/networkx/utils/decorators.py\u001b[0m in \u001b[0;36m_not_implemented_for\u001b[0;34m(f, *args, **kwargs)\u001b[0m\n\u001b[1;32m     66\u001b[0m                                             ' '.join(graph_types))\n\u001b[1;32m     67\u001b[0m         \u001b[0;32melse\u001b[0m\u001b[0;34m:\u001b[0m\u001b[0;34m\u001b[0m\u001b[0m\n\u001b[0;32m---> 68\u001b[0;31m             \u001b[0;32mreturn\u001b[0m \u001b[0mf\u001b[0m\u001b[0;34m(\u001b[0m\u001b[0;34m*\u001b[0m\u001b[0margs\u001b[0m\u001b[0;34m,\u001b[0m\u001b[0;34m**\u001b[0m\u001b[0mkwargs\u001b[0m\u001b[0;34m)\u001b[0m\u001b[0;34m\u001b[0m\u001b[0m\n\u001b[0m\u001b[1;32m     69\u001b[0m     \u001b[0;32mreturn\u001b[0m \u001b[0m_not_implemented_for\u001b[0m\u001b[0;34m\u001b[0m\u001b[0m\n\u001b[1;32m     70\u001b[0m \u001b[0;34m\u001b[0m\u001b[0m\n",
      "\u001b[0;32m/Users/puca/.pyenv/versions/anaconda3-4.3.1/lib/python3.6/site-packages/networkx/algorithms/components/connected.py\u001b[0m in \u001b[0;36mnode_connected_component\u001b[0;34m(G, n)\u001b[0m\n\u001b[1;32m    200\u001b[0m \u001b[0;34m\u001b[0m\u001b[0m\n\u001b[1;32m    201\u001b[0m     \"\"\"\n\u001b[0;32m--> 202\u001b[0;31m     \u001b[0;32mreturn\u001b[0m \u001b[0mset\u001b[0m\u001b[0;34m(\u001b[0m\u001b[0m_plain_bfs\u001b[0m\u001b[0;34m(\u001b[0m\u001b[0mG\u001b[0m\u001b[0;34m,\u001b[0m \u001b[0mn\u001b[0m\u001b[0;34m)\u001b[0m\u001b[0;34m)\u001b[0m\u001b[0;34m\u001b[0m\u001b[0m\n\u001b[0m\u001b[1;32m    203\u001b[0m \u001b[0;34m\u001b[0m\u001b[0m\n\u001b[1;32m    204\u001b[0m \u001b[0;34m\u001b[0m\u001b[0m\n",
      "\u001b[0;32m/Users/puca/.pyenv/versions/anaconda3-4.3.1/lib/python3.6/site-packages/networkx/algorithms/components/connected.py\u001b[0m in \u001b[0;36m_plain_bfs\u001b[0;34m(G, source)\u001b[0m\n\u001b[1;32m    214\u001b[0m                 \u001b[0;32myield\u001b[0m \u001b[0mv\u001b[0m\u001b[0;34m\u001b[0m\u001b[0m\n\u001b[1;32m    215\u001b[0m                 \u001b[0mseen\u001b[0m\u001b[0;34m.\u001b[0m\u001b[0madd\u001b[0m\u001b[0;34m(\u001b[0m\u001b[0mv\u001b[0m\u001b[0;34m)\u001b[0m\u001b[0;34m\u001b[0m\u001b[0m\n\u001b[0;32m--> 216\u001b[0;31m                 \u001b[0mnextlevel\u001b[0m\u001b[0;34m.\u001b[0m\u001b[0mupdate\u001b[0m\u001b[0;34m(\u001b[0m\u001b[0mG\u001b[0m\u001b[0;34m[\u001b[0m\u001b[0mv\u001b[0m\u001b[0;34m]\u001b[0m\u001b[0;34m)\u001b[0m\u001b[0;34m\u001b[0m\u001b[0m\n\u001b[0m",
      "\u001b[0;32m/Users/puca/.pyenv/versions/anaconda3-4.3.1/lib/python3.6/site-packages/networkx/classes/graph.py\u001b[0m in \u001b[0;36m__getitem__\u001b[0;34m(self, n)\u001b[0m\n\u001b[1;32m    405\u001b[0m         \u001b[0;34m{\u001b[0m\u001b[0;36m1\u001b[0m\u001b[0;34m:\u001b[0m \u001b[0;34m{\u001b[0m\u001b[0;34m}\u001b[0m\u001b[0;34m}\u001b[0m\u001b[0;34m\u001b[0m\u001b[0m\n\u001b[1;32m    406\u001b[0m         \"\"\"\n\u001b[0;32m--> 407\u001b[0;31m         \u001b[0;32mreturn\u001b[0m \u001b[0mself\u001b[0m\u001b[0;34m.\u001b[0m\u001b[0madj\u001b[0m\u001b[0;34m[\u001b[0m\u001b[0mn\u001b[0m\u001b[0;34m]\u001b[0m\u001b[0;34m\u001b[0m\u001b[0m\n\u001b[0m\u001b[1;32m    408\u001b[0m \u001b[0;34m\u001b[0m\u001b[0m\n\u001b[1;32m    409\u001b[0m     \u001b[0;32mdef\u001b[0m \u001b[0madd_node\u001b[0m\u001b[0;34m(\u001b[0m\u001b[0mself\u001b[0m\u001b[0;34m,\u001b[0m \u001b[0mn\u001b[0m\u001b[0;34m,\u001b[0m \u001b[0mattr_dict\u001b[0m\u001b[0;34m=\u001b[0m\u001b[0;32mNone\u001b[0m\u001b[0;34m,\u001b[0m \u001b[0;34m**\u001b[0m\u001b[0mattr\u001b[0m\u001b[0;34m)\u001b[0m\u001b[0;34m:\u001b[0m\u001b[0;34m\u001b[0m\u001b[0m\n",
      "\u001b[0;31mKeyError\u001b[0m: 20"
     ]
    }
   ],
   "source": [
    "G  = nx.gnm_random_graph(20,0.15)\n",
    "path_length_to_hub(G)"
   ]
  },
  {
   "cell_type": "code",
   "execution_count": null,
   "metadata": {
    "collapsed": true
   },
   "outputs": [],
   "source": []
  },
  {
   "cell_type": "code",
   "execution_count": 105,
   "metadata": {
    "collapsed": false
   },
   "outputs": [
    {
     "data": {
      "text/plain": [
       "[7, 9, 13, 16]"
      ]
     },
     "execution_count": 105,
     "metadata": {},
     "output_type": "execute_result"
    }
   ],
   "source": [
    "N=20\n",
    "G = nx.gnp_random_graph(N, 0.15)\n",
    "def findHub(G):\n",
    "    degree_sequence = sorted([d for n, d in G.degree().items()])\n",
    "    degreeCount = collections.Counter(degree_sequence)\n",
    "    par = 0.7 # upper 100*(1-par)%  \n",
    "    hub = [n for n, d in G.degree().items() if d>max(degreeCount.keys())*par]\n",
    "    return hub\n",
    "findHub(G)"
   ]
  },
  {
   "cell_type": "code",
   "execution_count": 106,
   "metadata": {
    "collapsed": false
   },
   "outputs": [
    {
     "data": {
      "text/plain": [
       "[7, 9, 13, 16]"
      ]
     },
     "execution_count": 106,
     "metadata": {},
     "output_type": "execute_result"
    }
   ],
   "source": [
    "findHub(G)"
   ]
  },
  {
   "cell_type": "code",
   "execution_count": 107,
   "metadata": {
    "collapsed": false
   },
   "outputs": [
    {
     "data": {
      "image/png": "[encoded data removed]",
      "text/plain": [
       "<matplotlib.figure.Figure at 0x11cd60588>"
      ]
     },
     "metadata": {},
     "output_type": "display_data"
    }
   ],
   "source": [
    "def main():\n",
    "    N = 20 # number of agent \n",
    "    price = 0\n",
    "    price_series=[price]\n",
    "    agent_list = [Agent(id) for id in range(N)]\n",
    "    for play in range(num_play):\n",
    "        rnd.seed() # reset the seed of randome number\n",
    "        G = nx.gnp_random_graph(N, 0.15)\n",
    "        decision(agent_list)\n",
    "        price += count(agent_list)\n",
    "        price_series.append(price)\n",
    "    # draw graph (Pyoplot interface)\n",
    "    plt.title(\"simlation result\")\n",
    "    plt.xlabel(\"time step\")\n",
    "    plt.ylabel(\"price\")\n",
    "    plt.hlines(0,0,len(price_series),linestyles=\"dashed\")\n",
    "    xmin,xmax = 0, len(price_series)+10 \n",
    "    ymin,ymax = min(price_series)-10, max(price_series)+10\n",
    "    plt.xlim(xmin,xmax)\n",
    "    plt.ylim(ymin, ymax)\n",
    "    plt.plot(price_series,label = \"Simulation\")\n",
    "    plt.legend()\n",
    "    plt.show()    \n",
    "    \n",
    "    # draw price\n",
    "    \n",
    "if __name__ == '__main__':\n",
    "    main()"
   ]
  },
  {
   "cell_type": "code",
   "execution_count": null,
   "metadata": {
    "collapsed": false
   },
   "outputs": [],
   "source": []
  },
  {
   "cell_type": "markdown",
   "metadata": {},
   "source": [
    "## Find hub and path lenght reaching hub "
   ]
  },
  {
   "cell_type": "code",
   "execution_count": 84,
   "metadata": {
    "collapsed": false
   },
   "outputs": [
    {
     "name": "stdout",
     "output_type": "stream",
     "text": [
      "hub:[3, 9, 12]\n",
      "sub []\n",
      "isolates []\n"
     ]
    }
   ],
   "source": [
    "import collections\n",
    "N=20\n",
    "\n",
    "G = nx.gnp_random_graph(N, 0.15)\n",
    "degree_sequence = sorted([d for n, d in G.degree().items()])\n",
    "degreeCount = collections.Counter(degree_sequence)\n",
    "\n",
    "'''''\n",
    "deg ,cnt  =zip(*degreeCount.items())\n",
    "fig, ax = plt.subplots()\n",
    "plt.bar(deg,cnt,width=0.8,color = \"b\")\n",
    "plt.title(\"Degree Histogram\")\n",
    "plt.ylabel(\"Count\")\n",
    "plt.xlabel(\"Degree\")\n",
    "ax.set_xticks([d + 0.4 for d in deg])\n",
    "ax.set_xticklabels(deg)\n",
    "plt.axes([0.4, 0.4, 0.5, 0.5])\n",
    "Gcc = sorted(nx.connected_component_subgraphs(G), key=len, reverse=True)[0]\n",
    "pos = nx.spring_layout(G)\n",
    "plt.axis('off')\n",
    "nx.draw_networkx_nodes(G, pos, node_size=20)\n",
    "nx.draw_networkx_edges(G, pos, alpha=0.4)\n",
    "nx.draw_networkx(G,pos,with_labels=True)\n",
    "plt.show()\n",
    "'''''  \n",
    "\n",
    "#calculate path lenght to the nearest influencer and inflencer node. \n",
    "par = 0.7 # upper 100*(1-par)%  \n",
    "hub = [n for n, d in G.degree().items() if d>max(degreeCount.keys())*par]\n",
    "print(\"hub:{}\".format(hub))\n",
    "\n",
    "store = [] # [influencer node, path length to influencer]\n",
    "isolates = nx.isolates(G)\n",
    "l1 = []\n",
    "l2 = []\n",
    "# find nodes which have no path to hub. \n",
    "sub=[]\n",
    "for n in range(N):\n",
    "    ns = nx.node_connected_component(G,n)\n",
    "    if not ns & set(hub):sub.append(n)    \n",
    "print (\"sub\",sub)\n",
    "print(\"isolates\",isolates)\n",
    "kk = []\n",
    "for n in G.degree().keys():\n",
    "    if n in hub or n in isolates or n in sub:\n",
    "        store.append([n,0])\n",
    "    else:\n",
    "        for x in hub:\n",
    "            kk.append(nx.shortest_path_length(G,n,x))\n",
    "        mi = min(kk)\n",
    "        store.append([hub[kk.index(mi)],mi])\n",
    "        kk.clear()\n",
    "num = [i for i in range(N)]\n",
    "di = dict(zip(num,store)) # di = {node num:[nearest influencer, path length to nearest influencer]}\n",
    "length = [list(di.values())[i] for i in range(len(di))]"
   ]
  },
  {
   "cell_type": "code",
   "execution_count": 41,
   "metadata": {
    "collapsed": false
   },
   "outputs": [
    {
     "name": "stdout",
     "output_type": "stream",
     "text": [
      "[0.6, 0.8, 1.0, 1.0, 0.8, 0.8, 0.8, 0.8, 1.0, 0.8, 0.8, 0.8, 0.6, 0.8, 0.8, 0.8, 0.6, 1.0, 0.6, 0.8]\n",
      "[2, 8, 2, 3, 2, 8, 3, 2, 8, 3, 2, 8, 2, 2, 3, 3, 3, 17, 3, 2]\n",
      "2\n",
      "8\n",
      "2\n",
      "3\n",
      "2\n",
      "3\n",
      "2\n",
      "8\n",
      "3\n",
      "2\n",
      "2\n",
      "3\n",
      "3\n",
      "17\n",
      "0.7691632152485818\n",
      "0.4781288888270586\n",
      "0.4495608979815229\n",
      "0.5293866166656681\n",
      "0.39329523471787875\n"
     ]
    }
   ],
   "source": [
    "agent_list = [Agent(id) for id in range(N)]\n",
    "\n",
    "def update_strategy(agent_list,length):\n",
    "    rnd.seed()\n",
    "    prob = [1-0.2*l[1] if l[1]<=10 else 0 for l in length]\n",
    "    hub_nodes = [l[0] for l in length]\n",
    "    print (prob)\n",
    "    print(hub_nodes)\n",
    "    for focal,l,h in zip(agent_list,prob,hub_nodes):\n",
    "        r = rnd.random()\n",
    "        if 0<r<=l:\n",
    "            print(h)\n",
    "            focal.strategy = Agent(h).strategy \n",
    "\n",
    "update_strategy(agent_list,length)"
   ]
  },
  {
   "cell_type": "code",
   "execution_count": 181,
   "metadata": {
    "collapsed": false
   },
   "outputs": [
    {
     "data": {
      "image/png": "[encoded data removed]",
      "text/plain": [
       "<matplotlib.figure.Figure at 0x11c1207b8>"
      ]
     },
     "metadata": {},
     "output_type": "display_data"
    }
   ],
   "source": [
    "def main():\n",
    "    N = 50 # number of agent \n",
    "    price = 0\n",
    "    price_series=[price]\n",
    "    num_play=365\n",
    "    agent_list = [Agent(id) for id in range(N)]\n",
    "    for play in range(num_play):\n",
    "        rnd.seed() # reset the seed of randome number\n",
    "        G = nx.gnp_random_graph(N, 0.15)\n",
    "        length = a(G,N)\n",
    "        decision(agent_list)\n",
    "        update_strategy(agent_list,length)\n",
    "        price += count(agent_list)\n",
    "        price_series.append(price)\n",
    "    # draw graph (Pyoplot interface)\n",
    "    plt.title(\"simlation result\")\n",
    "    plt.xlabel(\"time step\")\n",
    "    plt.ylabel(\"price\")\n",
    "    plt.hlines(0,0,len(price_series),linestyles=\"dashed\")\n",
    "    xmin,xmax = 0, len(price_series)+10 \n",
    "    ymin,ymax = min(price_series)-10, max(price_series)+10\n",
    "    plt.xlim(xmin,xmax)\n",
    "    plt.ylim(ymin, ymax)\n",
    "    plt.plot(price_series,label = \"Simulation\")\n",
    "    plt.legend()\n",
    "    plt.show()    \n",
    "    \n",
    "    # draw price\n",
    "    \n",
    "if __name__ == '__main__':\n",
    "    main()"
   ]
  },
  {
   "cell_type": "code",
   "execution_count": 166,
   "metadata": {
    "collapsed": false
   },
   "outputs": [],
   "source": [
    "G = nx.gnp_random_graph(N, 0.15)\n",
    "def a(G,N):\n",
    "    degree_sequence = sorted([d for n, d in G.degree().items()])\n",
    "    degreeCount = collections.Counter(degree_sequence)\n",
    "\n",
    "    #calculate path lenght to the nearest influencer and inflencer node. \n",
    "    par = 0.7 # upper 100*(1-par)%  \n",
    "    hubs = [n for n, d in G.degree().items() if d>max(degreeCount.keys())*par]\n",
    "\n",
    "    store = [] # [influencer node, path length to influencer]\n",
    "    isolates = nx.isolates(G)\n",
    "    l1 = []\n",
    "    l2 = []\n",
    "    # find nodes which have no path to hub. \n",
    "    sub=[]\n",
    "    for n in range(N):\n",
    "        ns = nx.node_connected_component(G,n)\n",
    "        if not ns & set(hubs):sub.append(n)    \n",
    "\n",
    "    kk = []\n",
    "    for n in G.degree().keys():\n",
    "        if n in hubs or n in isolates or n in sub:\n",
    "            store.append([n,0])\n",
    "        else:\n",
    "            for h in hubs:\n",
    "                try: \n",
    "                    kk.append(nx.shortest_path_length(G,n,h))\n",
    "                except:                 \n",
    "                    pass\n",
    "            mi = min(kk)\n",
    "            store.append([hubs[kk.index(mi)],mi])\n",
    "            kk.clear()\n",
    "    num = [i for i in range(N)]\n",
    "    di = dict(zip(num,store)) # di = {node num:[nearest influencer, path length to nearest influencer]}\n",
    "    length = [list(di.values())[i] for i in range(len(di))]\n",
    "    return length"
   ]
  },
  {
   "cell_type": "code",
   "execution_count": 131,
   "metadata": {
    "collapsed": false
   },
   "outputs": [
    {
     "data": {
      "image/png": "[encoded data removed]",
      "text/plain": [
       "<matplotlib.figure.Figure at 0x11cd5a588>"
      ]
     },
     "metadata": {},
     "output_type": "display_data"
    },
    {
     "data": {
      "text/plain": [
       "3"
      ]
     },
     "execution_count": 131,
     "metadata": {},
     "output_type": "execute_result"
    }
   ],
   "source": [
    "#G = nx.gnp_random_graph(N, 0.15)\n",
    "degree_sequence = sorted([d for n, d in G.degree().items()])\n",
    "degreeCount = collections.Counter(degree_sequence)\n",
    "\n",
    "\n",
    "deg ,cnt  =zip(*degreeCount.items())\n",
    "fig, ax = plt.subplots()\n",
    "plt.bar(deg,cnt,width=0.8,color = \"b\")\n",
    "plt.title(\"Degree Histogram\")\n",
    "plt.ylabel(\"Count\")\n",
    "plt.xlabel(\"Degree\")\n",
    "ax.set_xticks([d + 0.4 for d in deg])\n",
    "ax.set_xticklabels(deg)\n",
    "plt.axes([0.4, 0.4, 0.5, 0.5])\n",
    "Gcc = sorted(nx.connected_component_subgraphs(G), key=len, reverse=True)[0]\n",
    "pos = nx.spring_layout(G)\n",
    "plt.axis('off')\n",
    "nx.draw_networkx_nodes(G, pos, node_size=20)\n",
    "nx.draw_networkx_edges(G, pos, alpha=0.4)\n",
    "nx.draw_networkx(G,pos,with_labels=True)\n",
    "plt.show()\n",
    "\n",
    "nx.shortest_path_length(G,1,2)"
   ]
  },
  {
   "cell_type": "code",
   "execution_count": 152,
   "metadata": {
    "collapsed": false
   },
   "outputs": [
    {
     "data": {
      "image/png": "[encoded data removed]",
      "text/plain": [
       "<matplotlib.figure.Figure at 0x11ba9aa58>"
      ]
     },
     "metadata": {},
     "output_type": "display_data"
    }
   ],
   "source": [
    "k = nx.Graph()\n",
    "k.add_nodes_from([1,2,3,4])\n",
    "k.add_edges_from([(1,2),(1,3)])\n",
    "nx.draw_networkx(k)\n",
    "k.degree()\n",
    "nx.node_connected_component(k,2)\n",
    "# nx.shortest_path_length(k,3,1)\n",
    "if {1}&{2}:print(\"a\")"
   ]
  },
  {
   "cell_type": "code",
   "execution_count": null,
   "metadata": {
    "collapsed": true
   },
   "outputs": [],
   "source": []
  }
 ],
 "metadata": {
  "kernelspec": {
   "display_name": "Python 3",
   "language": "python",
   "name": "python3"
  },
  "language_info": {
   "codemirror_mode": {
    "name": "ipython",
    "version": 3
   },
   "file_extension": ".py",
   "mimetype": "text/x-python",
   "name": "python",
   "nbconvert_exporter": "python",
   "pygments_lexer": "ipython3",
   "version": "3.6.0"
  },
  "toc": {
   "base_numbering": 1,
   "nav_menu": {},
   "number_sections": true,
   "sideBar": true,
   "skip_h1_title": false,
   "title_cell": "Table of Contents",
   "title_sidebar": "Contents",
   "toc_cell": false,
   "toc_position": {},
   "toc_section_display": true,
   "toc_window_display": false
  }
 },
 "nbformat": 4,
 "nbformat_minor": 2
}
